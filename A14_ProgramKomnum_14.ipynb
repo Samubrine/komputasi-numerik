{
  "cells": [
    {
      "cell_type": "markdown",
      "id": "072f5b00",
      "metadata": {
        "id": "072f5b00"
      },
      "source": [
        "### Soal\n",
        "\n",
        "$ f(x) = x^3 + 6x^2 - 19x  - 84 $\n",
        "\n",
        "dimulai dari $x_0 = 5$. Cari akar x dengan metode iterasi satu titik dengan memindahkan variabel $x^3$ ke ruas kiri.\n",
        "\n",
        "`lakukan 5 iterasi`"
      ]
    },
    {
      "cell_type": "code",
      "execution_count": null,
      "id": "509b051d",
      "metadata": {
        "id": "509b051d"
      },
      "outputs": [],
      "source": [
        "%pip install numpy tabulate matplotlib sympy"
      ]
    },
    {
      "cell_type": "markdown",
      "id": "28626e20",
      "metadata": {
        "id": "28626e20"
      },
      "source": [
        "di dapat dari soal $ f(x) = 0 $\n",
        "\n",
        "$ 0 = x^3 + 6x^2 - 19x  - 84 $\n",
        "\n",
        "$ -x^3 =  6x^2 - 19x  - 84 $\n",
        "\n",
        "$ x^3 =  - 6x^2 + 19x  + 84 $\n",
        "\n",
        "$ x = \\frac{- 6x^2 + 19x  + 84}{x^2} $"
      ]
    },
    {
      "cell_type": "code",
      "execution_count": null,
      "id": "406eb7a3",
      "metadata": {
        "id": "406eb7a3",
        "outputId": "570d5723-2b33-4a6c-95f2-41c012f18232"
      },
      "outputs": [
        {
          "name": "stdout",
          "output_type": "stream",
          "text": [
            "iterasi : 1\n"
          ]
        },
        {
          "data": {
            "image/png": "[encoded data removed]",
            "text/latex": [
              "$\\displaystyle f{\\left(5 \\right)} = \\frac{- 6 \\cdot 5^{2} + 19 \\cdot 5 + 84}{5^{2}}$"
            ],
            "text/plain": [
              "            2            \n",
              "       - 6⋅5  + 19⋅5 + 84\n",
              "f(5) = ──────────────────\n",
              "                2        \n",
              "               5         "
            ]
          },
          "metadata": {},
          "output_type": "display_data"
        },
        {
          "name": "stdout",
          "output_type": "stream",
          "text": [
            "hasil= 1.16\n",
            "\n",
            "iterasi : 2\n"
          ]
        },
        {
          "data": {
            "image/png": "[encoded data removed]",
            "text/latex": [
              "$\\displaystyle f{\\left(1.16 \\right)} = \\frac{- 6 \\cdot 1.16^{2} + 19 \\cdot 1.16 + 84}{1.16^{2}}$"
            ],
            "text/plain": [
              "                  2               \n",
              "          - 6⋅1.16  + 19⋅1.16 + 84\n",
              "f(1.16) = ────────────────────────\n",
              "                       2          \n",
              "                   1.16           "
            ]
          },
          "metadata": {},
          "output_type": "display_data"
        },
        {
          "name": "stdout",
          "output_type": "stream",
          "text": [
            "hasil= 72.8\n",
            "\n",
            "iterasi : 3\n"
          ]
        },
        {
          "data": {
            "image/png": "[encoded data removed]",
            "text/latex": [
              "$\\displaystyle f{\\left(72.8 \\right)} = \\frac{- 6 \\cdot 72.8^{2} + 19 \\cdot 72.8 + 84}{72.8^{2}}$"
            ],
            "text/plain": [
              "                  2               \n",
              "          - 6⋅72.8  + 19⋅72.8 + 84\n",
              "f(72.8) = ────────────────────────\n",
              "                       2          \n",
              "                   72.8           "
            ]
          },
          "metadata": {},
          "output_type": "display_data"
        },
        {
          "name": "stdout",
          "output_type": "stream",
          "text": [
            "hasil= -5.72\n",
            "\n",
            "iterasi : 4\n"
          ]
        },
        {
          "data": {
            "image/png": "[encoded data removed]",
            "text/latex": [
              "$\\displaystyle f{\\left(-5.72 \\right)} = \\frac{- 6 -5.72^{2} + 19 -5.72 + 84}{-5.72^{2}}$"
            ],
            "text/plain": [
              "                    2                \n",
              "           - 6⋅-5.72  + 19⋅-5.72 + 84\n",
              "f(-5.72) = ──────────────────────────\n",
              "                          2          \n",
              "                     -5.72           "
            ]
          },
          "metadata": {},
          "output_type": "display_data"
        },
        {
          "name": "stdout",
          "output_type": "stream",
          "text": [
            "hasil= -6.75\n",
            "\n",
            "iterasi : 5\n"
          ]
        },
        {
          "data": {
            "image/png": "[encoded data removed]",
            "text/latex": [
              "$\\displaystyle f{\\left(-6.75 \\right)} = \\frac{- 6 -6.75^{2} + 19 -6.75 + 84}{-6.75^{2}}$"
            ],
            "text/plain": [
              "                    2                \n",
              "           - 6⋅-6.75  + 19⋅-6.75 + 84\n",
              "f(-6.75) = ──────────────────────────\n",
              "                          2          \n",
              "                     -6.75           "
            ]
          },
          "metadata": {},
          "output_type": "display_data"
        },
        {
          "name": "stdout",
          "output_type": "stream",
          "text": [
            "hasil= -6.97\n",
            "\n",
            "╒═══════════╤═══════╤═════════════════╕\n",
            "│   Iterasi │   X_0 │   Hasil Iterasi │\n",
            "╞═══════════╪═══════╪═════════════════╡\n",
            "│         1 │  5    │            1.16 │\n",
            "├───────────┼───────┼─────────────────┤\n",
            "│         2 │  1.16 │           72.8  │\n",
            "├───────────┼───────┼─────────────────┤\n",
            "│         3 │ 72.8  │           -5.72 │\n",
            "├───────────┼───────┼─────────────────┤\n",
            "│         4 │ -5.72 │           -6.75 │\n",
            "├───────────┼───────┼─────────────────┤\n",
            "│         5 │ -6.75 │           -6.97 │\n",
            "╘═══════════╧═══════╧═════════════════╛\n"
          ]
        }
      ],
      "source": [
        "import numpy as np\n",
        "import sympy\n",
        "from tabulate import tabulate\n",
        "\n",
        "n = 5\n",
        "x_0 = 5\n",
        "hasil_iterasi = []\n",
        "def g(x):\n",
        "    return ( -6*x**2  + 19*x + 84 ) / (x**2)\n",
        "\n",
        "def iterasi_satu_titik(n,x_0):\n",
        "    i = 1\n",
        "    while i <= n:\n",
        "        x_1 = np.round(g(x_0),2)\n",
        "        hasil_iterasi.append([i,x_0,x_1])\n",
        "        i += 1\n",
        "        x_0 = x_1\n",
        "\n",
        "\n",
        "sympy.init_printing(use_unicode=True)\n",
        "def print_latex(hasil_iterasi):\n",
        "    for i ,x_i, y_i in hasil_iterasi:\n",
        "        print(f\"iterasi : {i}\")\n",
        "        x = sympy.symbols(str(x_i))\n",
        "        g_simbolik = (-6*x**2 + 19*x + 84) / (x**2)\n",
        "        display(sympy.Eq(sympy.Function(\"f\")(x), g_simbolik))\n",
        "        print(f\"hasil= {y_i}\\n\")\n",
        "\n",
        "\n",
        "iterasi_satu_titik(n,x_0)\n",
        "print_latex(hasil_iterasi)\n",
        "# print table\n",
        "headers = ['Iterasi','X_0' ,'Hasil Iterasi']\n",
        "print(tabulate(hasil_iterasi, headers=headers, tablefmt='fancy_grid'))\n"
      ]
    },
    {
      "cell_type": "code",
      "execution_count": null,
      "id": "f8c48623",
      "metadata": {
        "id": "f8c48623",
        "outputId": "98066661-1343-4266-f79c-24fcc7ec8503"
      },
      "outputs": [
        {
          "name": "stderr",
          "output_type": "stream",
          "text": [
            "C:\\Users\\abdil\\AppData\\Local\\Temp\\ipykernel_19080\\395636625.py:27: UserWarning: color is redundantly defined by the 'color' keyword argument and the fmt string \"ro\" (-> color='r'). The keyword argument will take precedence.\n",
            "  plt.plot(x_i, y_i, 'ro', label=f'Iterasi {x_i}', color='black')\n"
          ]
        },
        {
          "data": {
            "image/png": "[encoded data removed]",
            "text/plain": [
              "<Figure size 1000x600 with 1 Axes>"
            ]
          },
          "metadata": {},
          "output_type": "display_data"
        }
      ],
      "source": [
        "import matplotlib.pyplot as plt\n",
        "\n",
        "def f(x):\n",
        "    return x**3 + 6*x**2 - 19*x - 84\n",
        "\n",
        "\n",
        "x = np.linspace(-10,80, 400)\n",
        "x = x[x != 0]\n",
        "y_f = f(x)\n",
        "y_g = g(x)\n",
        "\n",
        "plt.figure(figsize=(10, 6))\n",
        "plt.plot(x, y_f, label=\"f(x) = $x^3 + 6x^2 - 19x - 84$\", color='blue')\n",
        "plt.plot(x, y_g, label=\"g(x) = $\\\\frac{-6x^2 + 19x + 84}{x^2}$\", color='red')\n",
        "# plt.plot(x, x, label=\"y = x\", color='green')\n",
        "plt.axhline(0, color='black', linewidth=0.8)\n",
        "plt.axvline(0, color='black', linewidth=0.8)\n",
        "plt.ylim(-30, 75)\n",
        "plt.xlim(-10, 78)\n",
        "plt.grid(True)\n",
        "plt.legend()\n",
        "# plt.tight_layout()\n",
        "# plt.show()\n",
        "\n",
        "\n",
        "for i, x_i ,y_i in hasil_iterasi:\n",
        "    plt.plot(x_i, y_i, 'ro', label=f'Iterasi {x_i}', color='black')\n",
        "\n"
      ]
    }
  ],
  "metadata": {
    "kernelspec": {
      "display_name": "venv",
      "language": "python",
      "name": "python3"
    },
    "language_info": {
      "codemirror_mode": {
        "name": "ipython",
        "version": 3
      },
      "file_extension": ".py",
      "mimetype": "text/x-python",
      "name": "python",
      "nbconvert_exporter": "python",
      "pygments_lexer": "ipython3",
      "version": "3.10.6"
    },
    "colab": {
      "provenance": []
    }
  },
  "nbformat": 4,
  "nbformat_minor": 5
}